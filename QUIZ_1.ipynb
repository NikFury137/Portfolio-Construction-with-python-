{
 "cells": [
  {
   "cell_type": "markdown",
   "id": "8fcac76f-9ff6-470a-8d31-a0023a8d2ca7",
   "metadata": {},
   "source": [
    "# Quiz 1 "
   ]
  },
  {
   "cell_type": "code",
   "execution_count": 3,
   "id": "aac47f35-29fb-4c11-9101-07ddf4d7f15e",
   "metadata": {},
   "outputs": [],
   "source": [
    "%load_ext autoreload \n",
    "%autoreload 2\n",
    "\n",
    "import pandas as pd \n",
    "import numpy as np \n",
    "import edhec_riskKit as erk \n",
    "import warnings "
   ]
  },
  {
   "cell_type": "code",
   "execution_count": 7,
   "id": "3590c255-7f6a-4717-8f94-d53f3b5a3368",
   "metadata": {},
   "outputs": [],
   "source": [
    "warnings.filterwarnings(\n",
    "    'ignore',\n",
    "    category=UserWarning,\n",
    "    message=\"Parsing dates in %d/%m/%Y format when dayfirst=False (the default) was specified. Pass `dayfirst=True` or specify a format to silence this warning.\"\n",
    ")\n"
   ]
  },
  {
   "cell_type": "markdown",
   "id": "465ca335-7055-4b82-a885-53fce0d0bc16",
   "metadata": {},
   "source": [
    " Annualized_returns (inclusive of the end values)\n"
   ]
  },
  {
   "cell_type": "code",
   "execution_count": 132,
   "id": "1b34a8bb-1b21-4040-bab3-1603fb62d31d",
   "metadata": {},
   "outputs": [
    {
     "name": "stdout",
     "output_type": "stream",
     "text": [
      "Lo 20    0.151977\n",
      "Hi 20    0.098490\n",
      "dtype: float64\n"
     ]
    }
   ],
   "source": [
    "ffme_rets=erk.get_ffme_returns()\n",
    "cumulative_rets = (1 + ffme_rets).prod() - 1\n",
    "num_years = ffme_rets.shape[0] / 12\n",
    "annualized_returns = (1 + cumulative_rets) ** (1 / num_years) - 1\n",
    "print(annualized_returns)"
   ]
  },
  {
   "cell_type": "markdown",
   "id": "c16279ae-d80d-4be2-9779-2bc98fc144b4",
   "metadata": {},
   "source": [
    "Annualized volatility (inclusive of end values )"
   ]
  },
  {
   "cell_type": "code",
   "execution_count": 38,
   "id": "4e5cc286-d11e-4899-82da-1320c2573975",
   "metadata": {},
   "outputs": [
    {
     "name": "stdout",
     "output_type": "stream",
     "text": [
      "Annualized Volatility for the specified period:\n",
      "Lo 20 (Small Caps): 33.67%\n",
      "Hi 20 (Large Caps): 19.51%\n"
     ]
    }
   ],
   "source": [
    "annualized_volatility = ffme_rets.std() * np.sqrt(12)\n",
    "\n",
    "print(\"Annualized Volatility for the specified period:\")\n",
    "print(f\"Lo 20 (Small Caps): {annualized_volatility['Lo 20'] * 100:.2f}%\")\n",
    "print(f\"Hi 20 (Large Caps): {annualized_volatility['Hi 20'] * 100:.2f}%\")"
   ]
  },
  {
   "cell_type": "markdown",
   "id": "99dbe205-2564-4b49-9654-baf1ac165f25",
   "metadata": {},
   "source": [
    "Annualized returns ( over a period of time _ not inclusive of end values "
   ]
  },
  {
   "cell_type": "code",
   "execution_count": 92,
   "id": "391e5b05-cb78-4e14-b2ba-65ef94f61598",
   "metadata": {},
   "outputs": [
    {
     "name": "stdout",
     "output_type": "stream",
     "text": [
      "Annualized Returns for the specified period:\n",
      "Lo 20 (Small Caps): 11.44%\n",
      "Hi 20 (Large Caps): 6.29%\n"
     ]
    }
   ],
   "source": [
    "start_date = '1999-01'  # specify the start date (inclusive)\n",
    "end_date = '2015-12'    # specify the end date ( inclusive ) \n",
    "filtered_rets = ffme_rets[start_date:end_date]\n",
    "cumulative_rets = (1 + filtered_rets).prod() - 1\n",
    "total_months = filtered_rets.shape[0]\n",
    "num_years = total_months / 12\n",
    "annualized_returns = (1 + cumulative_rets) ** (1 / num_years) - 1\n",
    "print(\"Annualized Returns for the specified period:\")\n",
    "print(f\"Lo 20 (Small Caps): {annualized_returns['Lo 20'] * 100:.2f}%\")\n",
    "print(f\"Hi 20 (Large Caps): {annualized_returns['Hi 20'] * 100:.2f}%\")"
   ]
  },
  {
   "cell_type": "markdown",
   "id": "47632274-e7e7-4cfb-b41f-7af1f26f709e",
   "metadata": {},
   "source": [
    "Annualized volatility over a period of time _ not inclusive of end values "
   ]
  },
  {
   "cell_type": "code",
   "execution_count": 94,
   "id": "adc825a4-4c14-456f-9f85-4f7c7e509f97",
   "metadata": {},
   "outputs": [
    {
     "name": "stdout",
     "output_type": "stream",
     "text": [
      "Annualized Volatility for the specified period:\n",
      "Lo 20 (Small Caps): 22.89%\n",
      "Hi 20 (Large Caps): 17.27%\n"
     ]
    }
   ],
   "source": [
    "start_date = '1999-01'\n",
    "end_date = '2015-12'\n",
    "filtered_rets = ffme_rets[start_date:end_date]\n",
    "\n",
    "annualized_volatility = filtered_rets.std() * np.sqrt(12)\n",
    "\n",
    "print(\"Annualized Volatility for the specified period:\")\n",
    "print(f\"Lo 20 (Small Caps): {annualized_volatility['Lo 20'] * 100:.2f}%\")\n",
    "print(f\"Hi 20 (Large Caps): {annualized_volatility['Hi 20'] * 100:.2f}%\")"
   ]
  },
  {
   "cell_type": "markdown",
   "id": "68883769-285b-4a74-83a0-5dfa1d02a411",
   "metadata": {},
   "source": [
    "Drawdown questions "
   ]
  },
  {
   "cell_type": "code",
   "execution_count": 106,
   "id": "7b535d08-d03a-4db8-b557-701d389ce569",
   "metadata": {},
   "outputs": [
    {
     "name": "stdout",
     "output_type": "stream",
     "text": [
      "Maximum Drawdown:\n",
      "Lo 20 (Small Caps): -62.48%\n",
      "Hi 20 (Large Caps): -55.27%\n",
      "\n",
      "Months of Maximum Drawdown:\n",
      "Lo 20 (Small Caps): 2009-02\n",
      "Hi 20 (Large Caps): 2009-02\n"
     ]
    }
   ],
   "source": [
    "start_date='1999-01'\n",
    "end_date='2015-12'\n",
    "filtered_rets=ffme_rets[start_date:end_date]\n",
    "wealth_index = (1 + filtered_rets).cumprod()\n",
    "previous_peaks = wealth_index.cummax()\n",
    "drawdowns = (wealth_index - previous_peaks) / previous_peaks\n",
    "max_drawdown = drawdowns.min()\n",
    "drawdown_periods = drawdowns.idxmin()\n",
    "\n",
    "print(\"Maximum Drawdown:\")\n",
    "print(f\"Lo 20 (Small Caps): {max_drawdown['Lo 20'] * 100:.2f}%\")\n",
    "print(f\"Hi 20 (Large Caps): {max_drawdown['Hi 20'] * 100:.2f}%\")\n",
    "\n",
    "print(\"\\nMonths of Maximum Drawdown:\")\n",
    "print(f\"Lo 20 (Small Caps): {drawdown_periods['Lo 20']}\")\n",
    "print(f\"Hi 20 (Large Caps): {drawdown_periods['Hi 20']}\")"
   ]
  },
  {
   "cell_type": "code",
   "execution_count": 11,
   "id": "31a5f5bb-e127-40f5-81a6-9d89638ea84f",
   "metadata": {},
   "outputs": [
    {
     "name": "stdout",
     "output_type": "stream",
     "text": [
      "Column with the maximum semideviation: Short Selling (2.12%)\n",
      "Column with the minimum semideviation: Fixed Income Arbitrage (0.33%)\n"
     ]
    },
    {
     "name": "stderr",
     "output_type": "stream",
     "text": [
      "C:\\Users\\Nikita Sharma\\Downloads\\edhec_riskKit.py:27: UserWarning: Parsing dates in %d/%m/%Y format when dayfirst=False (the default) was specified. Pass `dayfirst=True` or specify a format to silence this warning.\n",
      "  hfi = pd.read_csv(filepath, index_col=0, parse_dates=True, na_values=-99.99) / 100.0\n"
     ]
    }
   ],
   "source": [
    "start_date='31-01-2009'\n",
    "hfi = erk.get_hfi_returns()[start_date:]\n",
    "erk.semideviation(hfi)\n",
    "max(erk.semideviation(hfi))\n",
    "max_vol_column = erk.semideviation(hfi).idxmax()\n",
    "max_vol_value = erk.semideviation(hfi).max()\n",
    "print(f\"Column with the maximum semideviation: {max_vol_column} ({max_vol_value * 100:.2f}%)\")\n",
    "min(erk.semideviation(hfi))\n",
    "min_vol_column = erk.semideviation(hfi).idxmin()\n",
    "min_vol_value = erk.semideviation(hfi).min()\n",
    "print(f\"Column with the minimum semideviation: {min_vol_column} ({min_vol_value * 100:.2f}%)\")"
   ]
  },
  {
   "cell_type": "code",
   "execution_count": 14,
   "id": "2ebceeca-f55a-4ba6-86f0-aa80b9946f79",
   "metadata": {},
   "outputs": [
    {
     "name": "stdout",
     "output_type": "stream",
     "text": [
      "Column with the maximum skewness: Equity Market Neutral (-89.63%)\n"
     ]
    },
    {
     "name": "stderr",
     "output_type": "stream",
     "text": [
      "C:\\Users\\Nikita Sharma\\Downloads\\edhec_riskKit.py:27: UserWarning: Parsing dates in %d/%m/%Y format when dayfirst=False (the default) was specified. Pass `dayfirst=True` or specify a format to silence this warning.\n",
      "  hfi = pd.read_csv(filepath, index_col=0, parse_dates=True, na_values=-99.99) / 100.0\n"
     ]
    }
   ],
   "source": [
    "start_date='31-01-2009'\n",
    "hfi = erk.get_hfi_returns()[start_date:]\n",
    "erk.skewness(hfi)\n",
    "max(erk.skewness(hfi))\n",
    "max_vol_column = erk.skewness(hfi).idxmin()\n",
    "max_vol_value = erk.skewness(hfi).min()\n",
    "print(f\"Column with the maximum skewness: {max_vol_column} ({max_vol_value * 100:.2f}%)\")\n"
   ]
  },
  {
   "cell_type": "code",
   "execution_count": 127,
   "id": "29a17e67-248b-43c2-8689-f25871d8da4b",
   "metadata": {},
   "outputs": [
    {
     "name": "stdout",
     "output_type": "stream",
     "text": [
      "Column with the maximum kurtosis: Fixed Income Arbitrage (3337.87%)\n"
     ]
    },
    {
     "name": "stderr",
     "output_type": "stream",
     "text": [
      "C:\\Users\\Nikita Sharma\\Downloads\\edhec_riskKit.py:27: UserWarning: Parsing dates in %d/%m/%Y format when dayfirst=False (the default) was specified. Pass `dayfirst=True` or specify a format to silence this warning.\n",
      "  hfi = pd.read_csv(filepath, index_col=0, parse_dates=True, na_values=-99.99) / 100.0\n"
     ]
    }
   ],
   "source": [
    "start_date='31-01-2000\n",
    "'\n",
    "hfi = erk.get_hfi_returns()[start_date:]\n",
    "erk.kurtosis(hfi)\n",
    "max(erk.kurtosis(hfi))\n",
    "max_vol_column = erk.kurtosis(hfi).idxmax()\n",
    "max_vol_value = erk.kurtosis(hfi).max()\n",
    "print(f\"Column with the maximum kurtosis: {max_vol_column} ({max_vol_value * 100:.2f}%)\")"
   ]
  },
  {
   "cell_type": "code",
   "execution_count": null,
   "id": "222c3700-c50d-476d-bd11-9fb098e7cc31",
   "metadata": {},
   "outputs": [],
   "source": []
  }
 ],
 "metadata": {
  "kernelspec": {
   "display_name": "Python 3 (ipykernel)",
   "language": "python",
   "name": "python3"
  },
  "language_info": {
   "codemirror_mode": {
    "name": "ipython",
    "version": 3
   },
   "file_extension": ".py",
   "mimetype": "text/x-python",
   "name": "python",
   "nbconvert_exporter": "python",
   "pygments_lexer": "ipython3",
   "version": "3.11.7"
  }
 },
 "nbformat": 4,
 "nbformat_minor": 5
}
